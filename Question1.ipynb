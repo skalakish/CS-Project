{
 "cells": [
  {
   "cell_type": "code",
   "execution_count": null,
   "id": "f311951e-1065-4ded-9bbb-a4d553197f54",
   "metadata": {},
   "outputs": [],
   "source": [
    "#create Graph class\n",
    "class Graph():\n",
    "    def __init__(self):\n",
    "        self.graph = {}\n",
    "    \n",
    "    def add_member(self, u):\n",
    "        if u not in self.graph.keys():\n",
    "            self.graph[u] = []\n",
    "\n",
    "    #def add_relationship(self, u, v):\n",
    "        #if v not in self.graph[u]:\n",
    "            #self.graph[u].append(v)\n",
    "    \n",
    "#create member class\n",
    "class Member():\n",
    "    def __init__(self, name, age, location):\n",
    "        self.name = name\n",
    "        self.age = age\n",
    "        self.location = location\n",
    "\n",
    "\n",
    "    def __str__(self):\n",
    "        return f\"Name: {self.name}, Age: {self.age}, Location: {self.location} \"\n",
    "\n",
    "#method to add new members\n",
    " \n",
    "\n",
    "# method to add new relationship\n",
    "\n",
    "def add_relationship(self, member1, member2):\n",
    "    if member1 in self.graph and member2 in self.graph:\n",
    "        self.graph[member1_name]['friends'].add(member2_name)\n",
    "            self.graph[member2_name]['friends'].add(member1_name)\n",
    "\n",
    "\n",
    "#method to find all friends\n",
    "\n",
    "\n",
    "\n",
    "#  method to find the path between two members"
   ]
  },
  {
   "cell_type": "code",
   "execution_count": 5,
   "id": "d90d7485-c231-4002-b036-7de710d2a00c",
   "metadata": {
    "tags": []
   },
   "outputs": [],
   "source": [
    "class Graph:\n",
    "    def __init__(self):\n",
    "        self.graph = {}\n",
    "\n",
    "    def add_member(self, member_name, additional_info=None):\n",
    "        if member_name not in self.graph:\n",
    "            self.graph[member_name] = {'additional_info': additional_info, 'friends': set()}\n",
    "        else:\n",
    "            print(f\"Member with name '{member_name}' already exists in the social network.\")\n",
    "\n",
    "    def add_relationship(self, member1_name, member2_name):\n",
    "        if member1_name in self.graph and member2_name in self.graph:\n",
    "            self.graph[member1_name]['friends'].add(member2_name)\n",
    "            self.graph[member2_name]['friends'].add(member1_name)\n",
    "        else:\n",
    "            print(\"One or both members do not exist in the social network.\")\n",
    "\n",
    "    def get_members(self):\n",
    "        return list(self.graph.keys())\n",
    "\n",
    "    def get_member_info(self, member_name):\n",
    "        if member_name in self.graph:\n",
    "            return self.graph[member_name]\n",
    "        else:\n",
    "            print(f\"Member with name '{member_name}' does not exist in the social network.\")\n",
    "\n",
    "\n"
   ]
  },
  {
   "cell_type": "code",
   "execution_count": null,
   "id": "13dd0d01-9441-43d9-9ca9-60fa60827105",
   "metadata": {},
   "outputs": [],
   "source": []
  }
 ],
 "metadata": {
  "kernelspec": {
   "display_name": "Python 3 (ipykernel)",
   "language": "python",
   "name": "python3"
  },
  "language_info": {
   "codemirror_mode": {
    "name": "ipython",
    "version": 3
   },
   "file_extension": ".py",
   "mimetype": "text/x-python",
   "name": "python",
   "nbconvert_exporter": "python",
   "pygments_lexer": "ipython3",
   "version": "3.11.5"
  }
 },
 "nbformat": 4,
 "nbformat_minor": 5
}
